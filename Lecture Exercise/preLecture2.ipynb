{
 "cells": [
  {
   "cell_type": "markdown",
   "metadata": {},
   "source": [
    "# Lecture 2: pre-lecture exercise"
   ]
  },
  {
   "cell_type": "markdown",
   "metadata": {},
   "source": [
    "## First, get Jupyter notebook up and running.\n",
    "\n",
    "If you've made it here, you've done this step!  "
   ]
  },
  {
   "cell_type": "markdown",
   "metadata": {},
   "source": [
    "## Second, familiarize yourself with python.  \n",
    "As a first pass, you may want to play around with the examples in the cells below.  Hit Shift+Enter to evaluate a cell."
   ]
  },
  {
   "cell_type": "code",
   "execution_count": 1,
   "metadata": {
    "collapsed": false
   },
   "outputs": [
    {
     "name": "stdout",
     "output_type": "stream",
     "text": [
      "Hello World!\n"
     ]
    }
   ],
   "source": [
    "print(\"Hello World!\")  # Hello world is really easy in python!"
   ]
  },
  {
   "cell_type": "code",
   "execution_count": 2,
   "metadata": {
    "collapsed": false
   },
   "outputs": [
    {
     "name": "stdout",
     "output_type": "stream",
     "text": [
      "[6, 4, 3, 8, 5]\n"
     ]
    }
   ],
   "source": [
    "A = [6,4,3,8,5] # A is a list.  \n",
    "print(A) # you can print it out!"
   ]
  },
  {
   "cell_type": "code",
   "execution_count": 3,
   "metadata": {
    "collapsed": false
   },
   "outputs": [
    {
     "data": {
      "text/plain": [
       "6"
      ]
     },
     "execution_count": 3,
     "metadata": {},
     "output_type": "execute_result"
    }
   ],
   "source": [
    "A[0] # lists are zero-indexed. "
   ]
  },
  {
   "cell_type": "code",
   "execution_count": 4,
   "metadata": {
    "collapsed": false
   },
   "outputs": [
    {
     "name": "stdout",
     "output_type": "stream",
     "text": [
      "[3, 8]\n",
      "[3, 8, 5]\n",
      "[6, 4, 3, 8]\n",
      "[6, 4, 3, 8, 5]\n"
     ]
    }
   ],
   "source": [
    "# slicing up lists:\n",
    "print(A[2:4]) # this is the list [A[2],A[3]] (it doesn't include A[4])\n",
    "print(A[2:])  # this notation starts with A[2] and goes to the end\n",
    "print(A[:4])  # this starts at the beginning and goes up until A[3]\n",
    "print(A[:])   # this just returns a copy of the whole list"
   ]
  },
  {
   "cell_type": "code",
   "execution_count": 5,
   "metadata": {
    "collapsed": false
   },
   "outputs": [
    {
     "data": {
      "text/plain": [
       "5"
      ]
     },
     "execution_count": 5,
     "metadata": {},
     "output_type": "execute_result"
    }
   ],
   "source": [
    "len(A) # get the length of a list"
   ]
  },
  {
   "cell_type": "code",
   "execution_count": 6,
   "metadata": {
    "collapsed": false
   },
   "outputs": [
    {
     "name": "stdout",
     "output_type": "stream",
     "text": [
      "[6, 4, 3, 8, 5, 7]\n"
     ]
    }
   ],
   "source": [
    "A.append(7) # this appends \"7\" to A\n",
    "print(A)\n",
    "# what happens if you evaluate this cell multiple times?"
   ]
  },
  {
   "cell_type": "code",
   "execution_count": 7,
   "metadata": {
    "collapsed": false
   },
   "outputs": [
    {
     "name": "stdout",
     "output_type": "stream",
     "text": [
      "[6, 4, 3, 8, 5]\n"
     ]
    }
   ],
   "source": [
    "A = A[:5] # let's set A back to how it was.\n",
    "print(A)"
   ]
  },
  {
   "cell_type": "code",
   "execution_count": 8,
   "metadata": {
    "collapsed": false
   },
   "outputs": [
    {
     "name": "stdout",
     "output_type": "stream",
     "text": [
      "[6, 4, 3, 8, 5, 'cat']\n"
     ]
    }
   ],
   "source": [
    "A = A + [\"cat\"]  # Python is totally cool with this\n",
    "print(A)"
   ]
  },
  {
   "cell_type": "code",
   "execution_count": 9,
   "metadata": {
    "collapsed": false
   },
   "outputs": [
    {
     "name": "stdout",
     "output_type": "stream",
     "text": [
      "12\n",
      "8\n",
      "6\n",
      "16\n",
      "10\n"
     ]
    }
   ],
   "source": [
    "A = [6,4,3,8,5]\n",
    "for x in A:  # we can iterate over items in a list to get a for loop\n",
    "    print(2*x)"
   ]
  },
  {
   "cell_type": "code",
   "execution_count": 10,
   "metadata": {
    "collapsed": false
   },
   "outputs": [
    {
     "name": "stdout",
     "output_type": "stream",
     "text": [
      "18\n",
      "12\n",
      "9\n",
      "24\n",
      "15\n",
      "This is outside the loop\n",
      "---\n",
      "18\n",
      "This is inside the loop\n",
      "12\n",
      "This is inside the loop\n",
      "9\n",
      "This is inside the loop\n",
      "24\n",
      "This is inside the loop\n",
      "15\n",
      "This is inside the loop\n"
     ]
    }
   ],
   "source": [
    "# Notice that there's no {} or ; or anything like that.  \n",
    "#Python uses the whitespace to tell what's in the loop and what's not.\n",
    "\n",
    "for x in A:\n",
    "    print(3*x)\n",
    "print(\"This is outside the loop\")\n",
    "\n",
    "print(\"---\")\n",
    "\n",
    "for x in A:\n",
    "    print(3*x)\n",
    "    print(\"This is inside the loop\")"
   ]
  },
  {
   "cell_type": "code",
   "execution_count": 11,
   "metadata": {
    "collapsed": false
   },
   "outputs": [
    {
     "name": "stdout",
     "output_type": "stream",
     "text": [
      "0\n",
      "1\n",
      "2\n",
      "3\n",
      "4\n"
     ]
    }
   ],
   "source": [
    "T = range(5)  # the range function gives you a way to iterate over a range of integers\n",
    "for x in T:\n",
    "    print(x)"
   ]
  },
  {
   "cell_type": "code",
   "execution_count": 12,
   "metadata": {
    "collapsed": false
   },
   "outputs": [
    {
     "name": "stdout",
     "output_type": "stream",
     "text": [
      "12\n",
      "8\n",
      "6\n",
      "16\n",
      "10\n"
     ]
    }
   ],
   "source": [
    "for i in range(5):  # we can also use the range function to iterate over A\n",
    "    print(2*A[i])"
   ]
  },
  {
   "cell_type": "code",
   "execution_count": 13,
   "metadata": {
    "collapsed": false
   },
   "outputs": [
    {
     "name": "stdout",
     "output_type": "stream",
     "text": [
      "12\n",
      "8\n",
      "6\n",
      "16\n",
      "10\n"
     ]
    }
   ],
   "source": [
    "for i in range(len(A)):  # and if we don't know how long A is to begin with, we can just use len(A)\n",
    "    print(2*A[i])"
   ]
  },
  {
   "cell_type": "code",
   "execution_count": 14,
   "metadata": {
    "collapsed": false
   },
   "outputs": [
    {
     "name": "stdout",
     "output_type": "stream",
     "text": [
      "[12, 8, 6, 16, 10]\n"
     ]
    }
   ],
   "source": [
    "B = [] # make an empty list\n",
    "for x in A:\n",
    "    B.append(2*x)  \n",
    "print(B)"
   ]
  },
  {
   "cell_type": "code",
   "execution_count": 15,
   "metadata": {
    "collapsed": false
   },
   "outputs": [
    {
     "name": "stdout",
     "output_type": "stream",
     "text": [
      "[12, 8, 6, 16, 10]\n"
     ]
    }
   ],
   "source": [
    "C = [ 2*x for x in A ] \n",
    "# This makes exactly the same list B that we had before, but in just one line.\n",
    "print(C)\n"
   ]
  },
  {
   "cell_type": "code",
   "execution_count": 19,
   "metadata": {
    "collapsed": false
   },
   "outputs": [
    {
     "name": "stdout",
     "output_type": "stream",
     "text": [
      "5\n",
      "[1, 2, 3, 4, 5, 6]\n",
      "hello world\n"
     ]
    }
   ],
   "source": [
    "def f(x,y):  # this is how we define a function.  Notice that x and y don't have types.\n",
    "    return x + y\n",
    "\n",
    "print(f(2,3))  # python has one version of + for integers\n",
    "print(f([1,2,3],[4,5,6]))  # and another version for lists\n",
    "print(f(\"hello \", \"world\"))  # and another version for strings\n",
    "# what happens if you do f(2, \"cat\")?\n",
    "# It shows that unsupported operand type(s) for +: 'int' and 'str'"
   ]
  },
  {
   "cell_type": "markdown",
   "metadata": {},
   "source": [
    "### As a more serious pass, here is a nice tutorial: https://www.programiz.com/python-programming\n",
    "\n",
    "### For now you just need to be able to understand (and maybe slightly modify) other people's python code.  "
   ]
  },
  {
   "cell_type": "markdown",
   "metadata": {},
   "source": [
    "## Third, check out these two python programs\n",
    "\n",
    "Step through the code and see if you can understand what's going on.  Step through the example A = [5,3,4,1,6] on paper.  This code will fly by in Lecture 2, so you should make sure you think about it ahead of time!"
   ]
  },
  {
   "cell_type": "code",
   "execution_count": 22,
   "metadata": {
    "collapsed": false
   },
   "outputs": [
    {
     "name": "stdout",
     "output_type": "stream",
     "text": [
      "[5, None, None, None, None]\n",
      "[3, 5, None, None, None]\n",
      "[3, 4, 5, None, None]\n",
      "[1, 3, 4, 5, None]\n",
      "[1, 3, 4, 5, 6]\n",
      "[1, 3, 4, 5, 6]\n",
      "[5, 3, 4, 1, 6]\n"
     ]
    }
   ],
   "source": [
    "# this algorithm sorts a list A\n",
    "# do you recognize this algorithm from 106B?\n",
    "def mysteryAlgorithmOne(A):\n",
    "    B = [None for i in range(len(A))] # B is a blank list of the same length as A.  \n",
    "                                      # We can initialize it with a special \"None\" object.\n",
    "    # iterate through all the elements in A:\n",
    "    for x in A:\n",
    "        # right now all of the non-None elements of B are already sorted.\n",
    "        # step through them, in order, and find the place to insert x so that it stays sorted.\n",
    "        for i in range(len(B)):\n",
    "            if B[i] == None or B[i] > x:\n",
    "                # x goes in spot i, and we should move everything over.\n",
    "                j = len(B)-1\n",
    "                while j > i:\n",
    "                    B[j] = B[j-1]\n",
    "                    j -= 1\n",
    "                B[i] = x\n",
    "                break # okay, we are done placing x!  Onto the next one.\n",
    "        print(B)\n",
    "    return B\n",
    "\n",
    "A = [5,3,4,1,6]\n",
    "B = mysteryAlgorithmOne(A)\n",
    "print(B)\n",
    "print(A)  # notice that this algorithm doesn't touch A"
   ]
  },
  {
   "cell_type": "code",
   "execution_count": 23,
   "metadata": {
    "collapsed": false
   },
   "outputs": [
    {
     "name": "stdout",
     "output_type": "stream",
     "text": [
      "[3, 5, 4, 1, 6]\n",
      "[3, 4, 5, 1, 6]\n",
      "[1, 3, 4, 5, 6]\n",
      "[1, 3, 4, 5, 6]\n",
      "[1, 3, 4, 5, 6]\n"
     ]
    }
   ],
   "source": [
    "# This algorithm also sorts a list A\n",
    "# It's the same basic idea as the above, just implemented a bit more slickly.\n",
    "# Make sure you understand why it works!\n",
    "def mysteryAlgorithmTwo(A):\n",
    "    for i in range(1,len(A)):\n",
    "        current = A[i]\n",
    "        j = i-1\n",
    "        while j >= 0 and A[j] > current:\n",
    "            A[j+1] = A[j]\n",
    "            j -= 1\n",
    "        A[j+1] = current\n",
    "        print(A)\n",
    "        \n",
    "A = [5,3,4,1,6]\n",
    "mysteryAlgorithmTwo(A)  # This algorithm sorts A in-place\n",
    "print(A)"
   ]
  },
  {
   "cell_type": "code",
   "execution_count": 24,
   "metadata": {
    "collapsed": false
   },
   "outputs": [
    {
     "name": "stdout",
     "output_type": "stream",
     "text": [
      "[1, 3, 4, 5, 6]\n",
      "[1, 3, 4, 5, 6]\n",
      "[5, 3, 4, 1, 6]\n"
     ]
    }
   ],
   "source": [
    "# FWIW, this is how python sorts a list A\n",
    "A = [5,3,4,1,6]\n",
    "A.sort()  # Python's built-in sort also sorts A in-place\n",
    "print(A)\n",
    "\n",
    "# If you didn't want to change A, you could have done this:\n",
    "A = [5,3,4,1,6]\n",
    "B = A[:] # makes a copy\n",
    "B.sort()\n",
    "print(B)\n",
    "print(A)"
   ]
  },
  {
   "cell_type": "code",
   "execution_count": null,
   "metadata": {
    "collapsed": true
   },
   "outputs": [],
   "source": []
  }
 ],
 "metadata": {
  "kernelspec": {
   "display_name": "Python 3",
   "language": "python",
   "name": "python3"
  },
  "language_info": {
   "codemirror_mode": {
    "name": "ipython",
    "version": 3
   },
   "file_extension": ".py",
   "mimetype": "text/x-python",
   "name": "python",
   "nbconvert_exporter": "python",
   "pygments_lexer": "ipython3",
   "version": "3.6.0"
  }
 },
 "nbformat": 4,
 "nbformat_minor": 1
}
