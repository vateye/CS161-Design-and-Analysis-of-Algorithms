{
 "cells": [
  {
   "cell_type": "markdown",
   "metadata": {},
   "source": [
    "# Lecture 1: Multiplication\n",
    "\n",
    "In this IPython notebook, we implement the algorithms that we discussed in class for multiplying integers.\n",
    "\n",
    "## The goal:\n",
    "\n",
    "Multiply two n-digit integers. \n",
    "\n",
    "## The rules: \n",
    "\n",
    "We are allowed to use Python's built-in multiplication to do one-digit multiplications (eg, 6 times 7), but not any other multiplication (eg, 66 times 77).  We are allowed to use Python's built-in addition (even of large numbers)."
   ]
  },
  {
   "cell_type": "code",
   "execution_count": 2,
   "metadata": {
    "collapsed": false
   },
   "outputs": [],
   "source": [
    "# first include a few helper functions that will be useful (like turning integers to digits and back)\n",
    "from multHelpers import *\n",
    "# set up matplotlib, for plotting stuff.\n",
    "%matplotlib inline\n",
    "import matplotlib\n",
    "import numpy as np\n",
    "import matplotlib.pyplot as plt"
   ]
  },
  {
   "cell_type": "markdown",
   "metadata": {},
   "source": [
    "## Here's our benchmark: grade-school multiplication.\n",
    "\n",
    "This is probably (equivalent to) the algorithm you learned in grade school."
   ]
  },
  {
   "cell_type": "code",
   "execution_count": 3,
   "metadata": {
    "collapsed": true
   },
   "outputs": [],
   "source": [
    "# look at each pair of digits, and add them up with appropriate shifts.\n",
    "def gradeSchoolMult( X, Y ): # X and Y are integers\n",
    "    x = getDigits(X)\n",
    "    y = getDigits(Y)\n",
    "    summands = []\n",
    "    for xDigit in range(len(x)):\n",
    "        currentXDigit = x[len(x) - xDigit -1]\n",
    "        z = [0 for i in range(xDigit)] # z is the digits of xDigit times y; start it out with some zeros\n",
    "        carry = 0\n",
    "        for yDigit in range(len(y)):\n",
    "            newProd = getDigits( currentXDigit * y[len(y) - yDigit - 1] + carry )\n",
    "            z.insert( 0, newProd[-1] ) # put the new digit at the front of our new summand\n",
    "            if len(newProd) > 1:\n",
    "                carry = newProd[0]\n",
    "            else:\n",
    "                carry = 0\n",
    "        z.insert(0, carry)\n",
    "        summands.append(makeInt(z))\n",
    "    return sum(summands) # finally add them all together"
   ]
  },
  {
   "cell_type": "code",
   "execution_count": 4,
   "metadata": {
    "collapsed": false
   },
   "outputs": [
    {
     "name": "stdout",
     "output_type": "stream",
     "text": [
      "807803114007\n",
      "807803114007\n"
     ]
    }
   ],
   "source": [
    "# make sure it works on an example:\n",
    "\n",
    "## NOTE: when testing your own code (for anything, not just this class), you'd want to do much more thorough tests!  \n",
    "\n",
    "X = 1234567\n",
    "Y = 654321\n",
    "print(gradeSchoolMult(X,Y))\n",
    "print(X*Y)"
   ]
  },
  {
   "cell_type": "markdown",
   "metadata": {},
   "source": [
    "Now let's see how long this takes!  We'll try it a bunch of times and graph it.  \n",
    "\n",
    "#### *NOTE*: Don't worry too much (at all) about the plotting code below, you'll never have to generate that for yourself in this course.\n",
    "\n",
    "#### *NOTE*: This should work fine if you installed Jupyter using anaconda but if you did it in a different way you may need to install matplotlib."
   ]
  },
  {
   "cell_type": "code",
   "execution_count": 5,
   "metadata": {
    "collapsed": true
   },
   "outputs": [],
   "source": [
    "# Generate some evaluation points\n",
    "nVals = [2**k for k in range(9)] # let's try it at a bunch of powers of 2, we'll see why later...\n",
    "nVals += [k*10 for k in range(10)]\n",
    "nVals += [k*50 for k in range(2,11)]# plus some spaced-out points...\n",
    "nVals.sort() # put them in order\n",
    "\n",
    "# multABunch (included from multABunch.py) just runs this algorithm a bunch of times.\n",
    "nValsGS, tValsGS = multABunch(gradeSchoolMult, nVals, numTrials=5)"
   ]
  },
  {
   "cell_type": "code",
   "execution_count": 6,
   "metadata": {
    "collapsed": false
   },
   "outputs": [
    {
     "name": "stdout",
     "output_type": "stream",
     "text": [
      "nice polynomial is 12.7277246912 + -0.509795215749 *x +  0.00518837935399 x^2\n"
     ]
    },
    {
     "data": {
      "text/plain": [
       "<matplotlib.text.Text at 0x10a355978>"
      ]
     },
     "execution_count": 6,
     "metadata": {},
     "output_type": "execute_result"
    },
    {
     "data": {
      "image/png": "[encoded data removed]",
      "text/plain": [
       "<matplotlib.figure.Figure at 0x10a303ba8>"
      ]
     },
     "metadata": {},
     "output_type": "display_data"
    }
   ],
   "source": [
    "# Now make a pretty picture!  \n",
    "\n",
    "plt.plot(nValsGS, tValsGS, color=\"red\", label=\"Grade School Multiplication on laptop\")\n",
    "# after we look at the data, change the False flag to True to fit a quadratic\n",
    "if True:\n",
    "    coeffs = np.polyfit( nValsGS, tValsGS, 2 )\n",
    "    plt.plot(nValsGS, [ coeffs[2] + coeffs[1]*n + coeffs[0]*n**2 for n in nValsGS], color=\"purple\", label=\"nice quadratic\")\n",
    "    print(\"nice polynomial is\", coeffs[2] ,\"+\", coeffs[1],\"*x + \", coeffs[0] , \"x^2\")\n",
    "plt.xlabel(\"n\")\n",
    "plt.ylabel(\"Time(ms)\")\n",
    "plt.legend()\n",
    "plt.title(\"Multiplying n-digit integers\")\n"
   ]
  },
  {
   "cell_type": "code",
   "execution_count": 7,
   "metadata": {
    "collapsed": false
   },
   "outputs": [
    {
     "data": {
      "text/plain": [
       "<matplotlib.text.Text at 0x10a530940>"
      ]
     },
     "execution_count": 7,
     "metadata": {},
     "output_type": "execute_result"
    },
    {
     "data": {
      "image/png": "[encoded data removed]",
      "text/plain": [
       "<matplotlib.figure.Figure at 0x1096654e0>"
      ]
     },
     "metadata": {},
     "output_type": "display_data"
    }
   ],
   "source": [
    "# Let's try interpolating this out a bit (see slides for context)\n",
    "\n",
    "nValsTmp = range(10000)\n",
    "plt.plot(nValsTmp, [ coeffs[2] + coeffs[1]*n + coeffs[0]*n**2 for n in nValsTmp], color=\"red\", label=\"GSMult on Laptop (projected via nice quadratic)\")\n",
    "#plt.plot(nValsGS, tValsGS, color=\"red\", label=\"Grade School Multiplication on laptop\")\n",
    "plt.plot(nValsTmp, [ n**(1.6)/10 + 100 for n in nValsTmp], \"--\" , color=\"green\", label=\"Magic Multiplication Algorithm by hand\")\n",
    "plt.plot(nValsTmp, [ n**(2)/10 + 100 for n in nValsTmp], color=\"orange\", label=\"Grade School Multiplication by hand\")\n",
    "plt.xlabel(\"n\")\n",
    "plt.ylabel(\"Time(ms)\")\n",
    "plt.ylim(0,500000)\n",
    "plt.xlim()\n",
    "plt.legend()\n",
    "plt.title(\"Multiplying n-digit integers\")"
   ]
  },
  {
   "cell_type": "markdown",
   "metadata": {},
   "source": [
    "### Now let's try a divide-and-conquer solution!\n",
    "\n",
    "This algorithm breaks one size-n multiplication into four size n/2 multiplications, and recurses."
   ]
  },
  {
   "cell_type": "code",
   "execution_count": 13,
   "metadata": {
    "collapsed": true
   },
   "outputs": [],
   "source": [
    "def divideAndConquerMult1( X, Y ):\n",
    "    return divideAndConquerMult1_helper( getDigits(X), getDigits(Y) )\n",
    "\n",
    "def divideAndConquerMult1_helper( x, y ):\n",
    "    n = max( len(x), len(y) )\n",
    "    # pad the shorter one with zeros until it's the same length\n",
    "    while len(x) < n:\n",
    "        x.insert(0,0)\n",
    "    while len(y) < n:\n",
    "        y.insert(0,0)\n",
    "    if n == 1:\n",
    "        return x[0]*y[0] # this is the base case, we are allowed to multiply one-digit integers :)\n",
    "    mid = round(n/2)\n",
    "    xhigh = x[:mid] # this is [ x[0], x[1], ..., x[mid-1] ]\n",
    "    xlow = x[mid:] # this is [ x[mid], ..., x[n-1] ]\n",
    "    yhigh = y[:mid]\n",
    "    ylow = y[mid:]\n",
    "    highhigh = divideAndConquerMult1_helper( xhigh , yhigh )\n",
    "    highlow = divideAndConquerMult1_helper( xhigh , ylow )\n",
    "    lowhigh = divideAndConquerMult1_helper( xlow , yhigh )\n",
    "    lowlow = divideAndConquerMult1_helper( xlow , ylow )\n",
    "    \n",
    "    # now shift things appropriately (see slides for explanation) and add them together\n",
    "    HH = getDigits(highhigh) + [ 0 for i in range(2*(n - mid))] # multiply 10^n\n",
    "    MID = getDigits(lowhigh + highlow) + [0 for i in range(n-mid)] # multiply 10^(n/2)\n",
    "    LL = getDigits(lowlow)\n",
    "    result = makeInt(HH) + makeInt(MID) + makeInt(LL)\n",
    "    return result"
   ]
  },
  {
   "cell_type": "code",
   "execution_count": 14,
   "metadata": {
    "collapsed": false
   },
   "outputs": [
    {
     "name": "stdout",
     "output_type": "stream",
     "text": [
      "807803114007\n",
      "807803114007\n"
     ]
    }
   ],
   "source": [
    "# make sure it works on an example:\n",
    "\n",
    "X = 1234567\n",
    "Y = 654321\n",
    "print(divideAndConquerMult1(X,Y))\n",
    "print(X*Y)"
   ]
  },
  {
   "cell_type": "markdown",
   "metadata": {},
   "source": [
    "How fast is this?  Let's try it!"
   ]
  },
  {
   "cell_type": "code",
   "execution_count": null,
   "metadata": {
    "collapsed": true
   },
   "outputs": [],
   "source": [
    "nValsRec, tValsRec = multABunch(divideAndConquerMult1, nVals, numTrials=5)"
   ]
  },
  {
   "cell_type": "code",
   "execution_count": null,
   "metadata": {
    "collapsed": false
   },
   "outputs": [],
   "source": [
    "plt.plot(nValsGS, tValsGS, color=\"red\", label=\"Grade School Multiplication\")\n",
    "plt.plot(nValsRec, tValsRec, color=\"blue\", label=\"Divide and Conquer I\")\n",
    "plt.xlabel(\"n\")\n",
    "plt.ylabel(\"Time(ms)\")\n",
    "plt.legend()\n",
    "plt.title(\"Multiplying n-digit integers\")"
   ]
  },
  {
   "cell_type": "markdown",
   "metadata": {},
   "source": [
    "Hmm...pretty hard to tell from this plot which one is asymptotically better.  (And there's definitely something weird going on at powers of two in the divide-and-conquer implementation above).  We'll need to turn to some mathematical analysis to understand how this algorithm behaves as n gets large."
   ]
  },
  {
   "cell_type": "markdown",
   "metadata": {
    "collapsed": true
   },
   "source": [
    "## Karatsuba multiplication\n",
    "\n",
    "The previous algorithms ended up both using about n^2 operations.  Karatsuba multiplication will do better!  It is also a divide-and-conquer approach, but turns one multiplication of size n into three multiplications of size n/2."
   ]
  },
  {
   "cell_type": "code",
   "execution_count": 11,
   "metadata": {
    "collapsed": true
   },
   "outputs": [],
   "source": [
    "def karatsuba( X, Y ):\n",
    "    return karatsuba_helper( getDigits(X), getDigits(Y))\n",
    "\n",
    "def karatsuba_helper( x, y ):  \n",
    "    n = max( len(x), len(y) )\n",
    "    # pad the shorter one with zeros until it's the same length\n",
    "    while len(x) < n:\n",
    "        x.insert(0,0)\n",
    "    while len(y) < n:\n",
    "        y.insert(0,0)\n",
    "    if n == 1:\n",
    "        return x[0]*y[0] # this is the base case, we are allowed to multiply one-digit integers :)\n",
    "    mid = round(n/2)\n",
    "    xhigh = x[:mid] # this is [ x[0], x[1], ..., x[mid-1] ]\n",
    "    xlow = x[mid:] # this is [ x[mid], ..., x[n-1] ]\n",
    "    yhigh = y[:mid]\n",
    "    ylow = y[mid:]\n",
    "    highhigh = karatsuba_helper( xhigh , yhigh )\n",
    "    lowlow = karatsuba_helper( xlow , ylow )\n",
    "    tmpTerm = karatsuba_helper( getDigits( makeInt(xlow) + makeInt(xhigh) ) , getDigits( makeInt(ylow) + makeInt(yhigh) ) )\n",
    "    middleTerm = tmpTerm - highhigh - lowlow # this is equal to highlow + lowhigh in divideAndConquerMult1\n",
    "    HH = getDigits(highhigh) + [ 0 for i in range(2*(n - mid))]\n",
    "    MID = getDigits(middleTerm) + [0 for i in range(n-mid)]\n",
    "    LL = getDigits(lowlow)\n",
    "    result = makeInt(HH) + makeInt(MID) + makeInt(LL)\n",
    "    return result"
   ]
  },
  {
   "cell_type": "code",
   "execution_count": 12,
   "metadata": {
    "collapsed": false
   },
   "outputs": [
    {
     "name": "stdout",
     "output_type": "stream",
     "text": [
      "807803114007\n",
      "807803114007\n"
     ]
    }
   ],
   "source": [
    "# make sure it works on an example:\n",
    "\n",
    "X = 1234567\n",
    "Y = 654321\n",
    "print(karatsuba(X,Y))\n",
    "print(X*Y)"
   ]
  },
  {
   "cell_type": "code",
   "execution_count": 13,
   "metadata": {
    "collapsed": true
   },
   "outputs": [],
   "source": [
    "nValsKarat, tValsKarat = multABunch(karatsuba, nVals, numTrials=5)"
   ]
  },
  {
   "cell_type": "code",
   "execution_count": 14,
   "metadata": {
    "collapsed": false
   },
   "outputs": [
    {
     "data": {
      "text/plain": [
       "<matplotlib.text.Text at 0x105f07e10>"
      ]
     },
     "execution_count": 14,
     "metadata": {},
     "output_type": "execute_result"
    },
    {
     "data": {
      "image/png": "[encoded data removed]",
      "text/plain": [
       "<matplotlib.figure.Figure at 0x105acfe80>"
      ]
     },
     "metadata": {},
     "output_type": "display_data"
    }
   ],
   "source": [
    "plt.plot(nValsGS, tValsGS, color=\"red\", label=\"Grade School Multiplication\")\n",
    "#plt.plot(nValsRec, tValsRec, color=\"grey\", label=\"Divide and Conquer I\")\n",
    "plt.plot(nValsKarat, tValsKarat, color=\"orange\", label=\"Divide and Conquer II (Karatsuba)\")\n",
    "plt.xlabel(\"n\")\n",
    "plt.ylabel(\"Time(ms)\")\n",
    "plt.legend()\n",
    "plt.title(\"Multiplying n-digit integers\")"
   ]
  },
  {
   "cell_type": "markdown",
   "metadata": {},
   "source": [
    "Cool, it does seem to work better than grade-school multiplication!"
   ]
  },
  {
   "cell_type": "code",
   "execution_count": null,
   "metadata": {
    "collapsed": true
   },
   "outputs": [],
   "source": []
  }
 ],
 "metadata": {
  "kernelspec": {
   "display_name": "Python 3",
   "language": "python",
   "name": "python3"
  },
  "language_info": {
   "codemirror_mode": {
    "name": "ipython",
    "version": 3
   },
   "file_extension": ".py",
   "mimetype": "text/x-python",
   "name": "python",
   "nbconvert_exporter": "python",
   "pygments_lexer": "ipython3",
   "version": "3.6.0"
  }
 },
 "nbformat": 4,
 "nbformat_minor": 1
}
